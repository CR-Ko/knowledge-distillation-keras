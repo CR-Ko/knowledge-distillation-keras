{
 "cells": [
  {
   "cell_type": "code",
   "execution_count": null,
   "metadata": {
    "collapsed": true
   },
   "outputs": [],
   "source": [
    "import numpy as np\n",
    "import pandas as pd\n",
    "\n",
    "from PIL import Image, ImageEnhance\n",
    "import torchvision.transforms as transforms\n",
    "\n",
    "import os\n",
    "from tqdm import tqdm "
   ]
  },
  {
   "cell_type": "code",
   "execution_count": null,
   "metadata": {
    "collapsed": true
   },
   "outputs": [],
   "source": [
    "# the folder from train.zip file\n",
    "train_dir = '/home/dan/data/Caltech-256/train/'\n",
    "\n",
    "# a folder where split and resized data will be stored\n",
    "data_dir = '/home/dan/data/'"
   ]
  },
  {
   "cell_type": "markdown",
   "metadata": {},
   "source": [
    "# Load constant train-val split"
   ]
  },
  {
   "cell_type": "code",
   "execution_count": null,
   "metadata": {
    "collapsed": true
   },
   "outputs": [],
   "source": [
    "T = pd.read_csv('../train_val_split/train_metadata.csv')\n",
    "V = pd.read_csv('../train_val_split/val_metadata.csv')"
   ]
  },
  {
   "cell_type": "markdown",
   "metadata": {},
   "source": [
    "# Create directories for different categories"
   ]
  },
  {
   "cell_type": "code",
   "execution_count": null,
   "metadata": {
    "collapsed": true
   },
   "outputs": [],
   "source": [
    "os.mkdir(data_dir + 'train')\n",
    "for i in range(1, 256 + 1):\n",
    "    os.mkdir(data_dir + 'train/' + str(i))"
   ]
  },
  {
   "cell_type": "code",
   "execution_count": null,
   "metadata": {
    "collapsed": true
   },
   "outputs": [],
   "source": [
    "os.mkdir(data_dir + 'val')\n",
    "for i in range(1, 256 + 1):\n",
    "    os.mkdir(data_dir + 'val/' + str(i))"
   ]
  },
  {
   "cell_type": "markdown",
   "metadata": {},
   "source": [
    "# Resize val. images"
   ]
  },
  {
   "cell_type": "code",
   "execution_count": null,
   "metadata": {
    "collapsed": true
   },
   "outputs": [],
   "source": [
    "val_transform = transforms.Compose([\n",
    "    transforms.Scale(224, Image.LANCZOS),\n",
    "    transforms.CenterCrop(224)\n",
    "])"
   ]
  },
  {
   "cell_type": "code",
   "execution_count": null,
   "metadata": {},
   "outputs": [],
   "source": [
    "val_size = len(V)\n",
    "val_size"
   ]
  },
  {
   "cell_type": "code",
   "execution_count": null,
   "metadata": {
    "scrolled": true
   },
   "outputs": [],
   "source": [
    "# resize RGB images\n",
    "for i, row in tqdm(V.loc[V.channels == 3].iterrows()):\n",
    "    # get image\n",
    "    file_path = os.path.join(train_dir, row.directory, row.img_name)\n",
    "    image = Image.open(file_path)\n",
    "    \n",
    "    # transform it\n",
    "    image = val_transform(image)\n",
    "    \n",
    "    # save\n",
    "    save_path = os.path.join(data_dir, 'val', str(row.category_number), row.img_name)\n",
    "    image.save(save_path, 'jpeg')"
   ]
  },
  {
   "cell_type": "code",
   "execution_count": null,
   "metadata": {},
   "outputs": [],
   "source": [
    "# resize grayscale images\n",
    "for i, row in tqdm(V.loc[V.channels == 1].iterrows()):\n",
    "    # get image\n",
    "    file_path = os.path.join(train_dir, row.directory, row.img_name)\n",
    "    image = Image.open(file_path)\n",
    "    \n",
    "    # transform it\n",
    "    image = val_transform(image)\n",
    "    \n",
    "    # convert to RGB\n",
    "    array = np.asarray(image, dtype='uint8')\n",
    "    array = np.stack([array, array, array], axis=2)\n",
    "    image = Image.fromarray(array)\n",
    "    \n",
    "    # save\n",
    "    save_path = os.path.join(data_dir, 'val', str(row.category_number), row.img_name)\n",
    "    image.save(save_path, 'jpeg')"
   ]
  },
  {
   "cell_type": "markdown",
   "metadata": {},
   "source": [
    "# Resize train images"
   ]
  },
  {
   "cell_type": "code",
   "execution_count": null,
   "metadata": {
    "collapsed": true
   },
   "outputs": [],
   "source": [
    "enhancers = {\n",
    "    0: lambda image, f: ImageEnhance.Color(image).enhance(f),\n",
    "    1: lambda image, f: ImageEnhance.Contrast(image).enhance(f),\n",
    "    2: lambda image, f: ImageEnhance.Brightness(image).enhance(f),\n",
    "    3: lambda image, f: ImageEnhance.Sharpness(image).enhance(f)\n",
    "}\n",
    "\n",
    "factors = {\n",
    "    0: lambda: np.random.uniform(0.4, 1.6),\n",
    "    1: lambda: np.random.uniform(0.8, 1.2),\n",
    "    2: lambda: np.random.uniform(0.8, 1.2),\n",
    "    3: lambda: np.random.uniform(0.4, 1.6)\n",
    "}\n",
    "\n",
    "def enhance(image):\n",
    "    order = [0, 1, 2, 3]\n",
    "    np.random.shuffle(order)\n",
    "    for i in order:\n",
    "        f = factors[i]()\n",
    "        image = enhancers[i](image, f)\n",
    "    return image"
   ]
  },
  {
   "cell_type": "code",
   "execution_count": null,
   "metadata": {
    "collapsed": true
   },
   "outputs": [],
   "source": [
    "train_transform_rare = transforms.Compose([\n",
    "    transforms.Scale(256, Image.LANCZOS),\n",
    "    transforms.RandomCrop(224),\n",
    "    transforms.RandomHorizontalFlip(),\n",
    "    transforms.Lambda(enhance)\n",
    "])\n",
    "\n",
    "train_transform = transforms.Compose([\n",
    "    transforms.Scale(256, Image.LANCZOS),\n",
    "    transforms.RandomCrop(224),\n",
    "    transforms.RandomHorizontalFlip(),\n",
    "])"
   ]
  },
  {
   "cell_type": "code",
   "execution_count": null,
   "metadata": {
    "collapsed": true
   },
   "outputs": [],
   "source": [
    "# number of images in each category\n",
    "category_counts = dict(T.category_name.value_counts())"
   ]
  },
  {
   "cell_type": "code",
   "execution_count": null,
   "metadata": {
    "scrolled": true
   },
   "outputs": [],
   "source": [
    "# sample with replacement 100 images from each category\n",
    "T = T.groupby('category_name', group_keys=False).apply(lambda x: x.sample(n=100, replace=True))\n",
    "T.reset_index(drop=True, inplace=True)"
   ]
  },
  {
   "cell_type": "code",
   "execution_count": null,
   "metadata": {},
   "outputs": [],
   "source": [
    "train_size = len(T)\n",
    "train_size"
   ]
  },
  {
   "cell_type": "code",
   "execution_count": null,
   "metadata": {},
   "outputs": [],
   "source": [
    "# resize RGB images\n",
    "for i, row in tqdm(T.loc[T.channels == 3].iterrows()):\n",
    "    # get image\n",
    "    file_path = os.path.join(train_dir, row.directory, row.img_name)\n",
    "    image = Image.open(file_path)\n",
    "    \n",
    "    # transform it\n",
    "    if category_counts[row.category_name] < 100:\n",
    "        image = train_transform_rare(image)\n",
    "    else:\n",
    "        image = train_transform(image)\n",
    "    \n",
    "    # save\n",
    "    new_image_name = str(i) + '_' + row.img_name\n",
    "    save_path = os.path.join(data_dir, 'train', str(row.category_number), new_image_name)\n",
    "    image.save(save_path, 'jpeg')"
   ]
  },
  {
   "cell_type": "code",
   "execution_count": null,
   "metadata": {},
   "outputs": [],
   "source": [
    "# resize grayscale images\n",
    "for i, row in tqdm(T.loc[T.channels == 1].iterrows()):\n",
    "    # get image\n",
    "    file_path = os.path.join(train_dir, row.directory, row.img_name)\n",
    "    image = Image.open(file_path)\n",
    "    \n",
    "    # transform it\n",
    "    if category_counts[row.category_name] < 100:\n",
    "        image = train_transform_rare(image)\n",
    "    else:\n",
    "        image = train_transform(image)\n",
    "    \n",
    "    # convert to RGB\n",
    "    array = np.asarray(image, dtype='uint8')\n",
    "    array = np.stack([array, array, array], axis=2)\n",
    "    image = Image.fromarray(array)\n",
    "    \n",
    "    # save\n",
    "    new_image_name = str(i) + '_' + row.img_name\n",
    "    save_path = os.path.join(data_dir, 'train', str(row.category_number), new_image_name)\n",
    "    image.save(save_path, 'jpeg')"
   ]
  },
  {
   "cell_type": "code",
   "execution_count": null,
   "metadata": {
    "collapsed": true
   },
   "outputs": [],
   "source": []
  }
 ],
 "metadata": {
  "kernelspec": {
   "display_name": "Python 3",
   "language": "python",
   "name": "python3"
  },
  "language_info": {
   "codemirror_mode": {
    "name": "ipython",
    "version": 3
   },
   "file_extension": ".py",
   "mimetype": "text/x-python",
   "name": "python",
   "nbconvert_exporter": "python",
   "pygments_lexer": "ipython3",
   "version": "3.6.2"
  }
 },
 "nbformat": 4,
 "nbformat_minor": 2
}
