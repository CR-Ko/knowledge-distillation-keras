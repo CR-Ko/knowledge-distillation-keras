{
 "cells": [
  {
   "cell_type": "code",
   "execution_count": 1,
   "metadata": {
    "collapsed": true
   },
   "outputs": [],
   "source": [
    "%load_ext autoreload\n",
    "%autoreload 2"
   ]
  },
  {
   "cell_type": "code",
   "execution_count": 8,
   "metadata": {},
   "outputs": [],
   "source": [
    "import numpy as np\n",
    "\n",
    "import keras\n",
    "from keras import optimizers\n",
    "from keras.preprocessing.image import ImageDataGenerator\n",
    "from keras.applications.resnet50 import preprocess_input\n",
    "\n",
    "from resnet import get_resnet"
   ]
  },
  {
   "cell_type": "code",
   "execution_count": 3,
   "metadata": {
    "collapsed": true
   },
   "outputs": [],
   "source": [
    "data_dir = '/home/ubuntu/data/'"
   ]
  },
  {
   "cell_type": "code",
   "execution_count": 4,
   "metadata": {},
   "outputs": [
    {
     "name": "stdout",
     "output_type": "stream",
     "text": [
      "Found 25600 images belonging to 256 classes.\n",
      "Found 5120 images belonging to 256 classes.\n"
     ]
    }
   ],
   "source": [
    "data_generator = ImageDataGenerator(\n",
    "    data_format='channels_last',\n",
    "    preprocessing_function=lambda x: preprocess_input(np.expand_dims(x, 0))\n",
    ")\n",
    "\n",
    "train_generator = data_generator.flow_from_directory(\n",
    "    data_dir + 'train', \n",
    "    target_size=(224, 224),\n",
    "    batch_size=64\n",
    ")\n",
    "\n",
    "val_generator = data_generator.flow_from_directory(\n",
    "    data_dir + 'val', \n",
    "    target_size=(224, 224),\n",
    "    batch_size=64\n",
    ")"
   ]
  },
  {
   "cell_type": "code",
   "execution_count": 22,
   "metadata": {
    "collapsed": true
   },
   "outputs": [],
   "source": [
    "model = get_resnet()\n",
    "\n",
    "for layer in model.layers[:-2]:\n",
    "    layer.trainable = False\n",
    "    \n",
    "model.layers[-2].kernel_regularizer = keras.regularizers.l2(1e-2)"
   ]
  },
  {
   "cell_type": "code",
   "execution_count": 24,
   "metadata": {},
   "outputs": [],
   "source": [
    "model.compile(\n",
    "    optimizer=optimizers.Adam(lr=1e-3), \n",
    "    loss='categorical_crossentropy', metrics=['accuracy', 'top_k_categorical_accuracy']\n",
    ")"
   ]
  },
  {
   "cell_type": "code",
   "execution_count": 25,
   "metadata": {
    "scrolled": true
   },
   "outputs": [
    {
     "name": "stdout",
     "output_type": "stream",
     "text": [
      "Epoch 1/10\n",
      "35s - loss: 2.3956 - acc: 0.5335 - top_k_categorical_accuracy: 0.7130 - val_loss: 1.1560 - val_acc: 0.7256 - val_top_k_categorical_accuracy: 0.9053\n",
      "Epoch 2/10\n",
      "34s - loss: 0.6579 - acc: 0.8544 - top_k_categorical_accuracy: 0.9584 - val_loss: 0.9891 - val_acc: 0.7539 - val_top_k_categorical_accuracy: 0.9248\n",
      "Epoch 3/10\n",
      "34s - loss: 0.4937 - acc: 0.8850 - top_k_categorical_accuracy: 0.9697 - val_loss: 0.8352 - val_acc: 0.7871 - val_top_k_categorical_accuracy: 0.9404\n",
      "Epoch 4/10\n",
      "34s - loss: 0.3455 - acc: 0.9172 - top_k_categorical_accuracy: 0.9837 - val_loss: 0.7942 - val_acc: 0.7979 - val_top_k_categorical_accuracy: 0.9316\n",
      "Epoch 5/10\n",
      "34s - loss: 0.1665 - acc: 0.9722 - top_k_categorical_accuracy: 0.9959 - val_loss: 0.8457 - val_acc: 0.7979 - val_top_k_categorical_accuracy: 0.9395\n",
      "Epoch 6/10\n",
      "34s - loss: 0.1580 - acc: 0.9684 - top_k_categorical_accuracy: 0.9954 - val_loss: 0.8162 - val_acc: 0.8105 - val_top_k_categorical_accuracy: 0.9365\n",
      "Epoch 7/10\n",
      "34s - loss: 0.1079 - acc: 0.9814 - top_k_categorical_accuracy: 0.9982 - val_loss: 0.8534 - val_acc: 0.7861 - val_top_k_categorical_accuracy: 0.9229\n",
      "Epoch 8/10\n",
      "34s - loss: 0.0707 - acc: 0.9911 - top_k_categorical_accuracy: 0.9996 - val_loss: 0.7632 - val_acc: 0.8184 - val_top_k_categorical_accuracy: 0.9355\n",
      "Epoch 9/10\n",
      "34s - loss: 0.0707 - acc: 0.9902 - top_k_categorical_accuracy: 0.9996 - val_loss: 0.8064 - val_acc: 0.7988 - val_top_k_categorical_accuracy: 0.9414\n",
      "Epoch 10/10\n",
      "34s - loss: 0.0416 - acc: 0.9964 - top_k_categorical_accuracy: 0.9999 - val_loss: 0.7548 - val_acc: 0.8223 - val_top_k_categorical_accuracy: 0.9434\n"
     ]
    },
    {
     "data": {
      "text/plain": [
       "<keras.callbacks.History at 0x7f857bd87278>"
      ]
     },
     "execution_count": 25,
     "metadata": {},
     "output_type": "execute_result"
    }
   ],
   "source": [
    "model.fit_generator(\n",
    "    train_generator, \n",
    "    steps_per_epoch=150, epochs=10, verbose=2,\n",
    "    validation_data=val_generator, validation_steps=16, \n",
    "    max_queue_size=10, workers=1, use_multiprocessing=False\n",
    ")"
   ]
  },
  {
   "cell_type": "code",
   "execution_count": 26,
   "metadata": {
    "collapsed": true
   },
   "outputs": [],
   "source": [
    "model.save_weights('resnet_weights.hdf5')"
   ]
  }
 ],
 "metadata": {
  "kernelspec": {
   "display_name": "Python 3",
   "language": "python",
   "name": "python3"
  },
  "language_info": {
   "codemirror_mode": {
    "name": "ipython",
    "version": 3
   },
   "file_extension": ".py",
   "mimetype": "text/x-python",
   "name": "python",
   "nbconvert_exporter": "python",
   "pygments_lexer": "ipython3",
   "version": "3.5.2"
  }
 },
 "nbformat": 4,
 "nbformat_minor": 2
}
