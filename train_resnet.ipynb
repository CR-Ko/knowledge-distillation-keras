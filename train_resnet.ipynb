{
 "cells": [
  {
   "cell_type": "code",
   "execution_count": 1,
   "metadata": {
    "collapsed": true
   },
   "outputs": [],
   "source": [
    "%load_ext autoreload\n",
    "%autoreload 2"
   ]
  },
  {
   "cell_type": "code",
   "execution_count": 2,
   "metadata": {},
   "outputs": [
    {
     "name": "stderr",
     "output_type": "stream",
     "text": [
      "Using TensorFlow backend.\n"
     ]
    }
   ],
   "source": [
    "import numpy as np\n",
    "\n",
    "import keras\n",
    "from keras import optimizers\n",
    "from keras.preprocessing.image import ImageDataGenerator\n",
    "from keras.applications.resnet50 import preprocess_input\n",
    "\n",
    "from resnet import get_resnet"
   ]
  },
  {
   "cell_type": "code",
   "execution_count": 3,
   "metadata": {
    "collapsed": true
   },
   "outputs": [],
   "source": [
    "data_dir = '/home/ubuntu/data/'"
   ]
  },
  {
   "cell_type": "code",
   "execution_count": 4,
   "metadata": {},
   "outputs": [
    {
     "name": "stdout",
     "output_type": "stream",
     "text": [
      "Found 25600 images belonging to 256 classes.\n",
      "Found 5120 images belonging to 256 classes.\n"
     ]
    }
   ],
   "source": [
    "data_generator = ImageDataGenerator(\n",
    "    data_format='channels_last',\n",
    "    preprocessing_function=lambda x: preprocess_input(np.expand_dims(x, 0))\n",
    ")\n",
    "\n",
    "train_generator = data_generator.flow_from_directory(\n",
    "    data_dir + 'train', \n",
    "    target_size=(224, 224),\n",
    "    batch_size=64\n",
    ")\n",
    "\n",
    "val_generator = data_generator.flow_from_directory(\n",
    "    data_dir + 'val', \n",
    "    target_size=(224, 224),\n",
    "    batch_size=64\n",
    ")"
   ]
  },
  {
   "cell_type": "code",
   "execution_count": 5,
   "metadata": {},
   "outputs": [],
   "source": [
    "model = get_resnet()\n",
    "\n",
    "for layer in model.layers[:-14]:\n",
    "    layer.trainable = False\n",
    "    \n",
    "model.layers[-2].kernel_regularizer = keras.regularizers.l2(1e-3)\n",
    "model.layers[-8].kernel_regularizer = keras.regularizers.l2(1e-3)\n",
    "model.layers[-11].kernel_regularizer = keras.regularizers.l2(1e-3)\n",
    "model.layers[-14].kernel_regularizer = keras.regularizers.l2(1e-3)"
   ]
  },
  {
   "cell_type": "code",
   "execution_count": 6,
   "metadata": {
    "collapsed": true
   },
   "outputs": [],
   "source": [
    "model.compile(\n",
    "    optimizer=optimizers.Adam(lr=1e-4), \n",
    "    loss='categorical_crossentropy', metrics=['accuracy', 'top_k_categorical_accuracy']\n",
    ")"
   ]
  },
  {
   "cell_type": "code",
   "execution_count": 7,
   "metadata": {
    "scrolled": false
   },
   "outputs": [
    {
     "name": "stdout",
     "output_type": "stream",
     "text": [
      "Epoch 1/7\n",
      "150/150 [==============================] - 121s - loss: 4.0736 - acc: 0.2687 - top_k_categorical_accuracy: 0.4311 - val_loss: 1.7483 - val_acc: 0.6113 - val_top_k_categorical_accuracy: 0.8164\n",
      "Epoch 2/7\n",
      "150/150 [==============================] - 119s - loss: 1.7099 - acc: 0.6953 - top_k_categorical_accuracy: 0.8689 - val_loss: 1.1489 - val_acc: 0.7357 - val_top_k_categorical_accuracy: 0.8978\n",
      "Epoch 3/7\n",
      "150/150 [==============================] - 119s - loss: 1.0084 - acc: 0.8169 - top_k_categorical_accuracy: 0.9393 - val_loss: 1.0904 - val_acc: 0.7604 - val_top_k_categorical_accuracy: 0.9108\n",
      "Epoch 4/7\n",
      "150/150 [==============================] - 119s - loss: 0.6345 - acc: 0.8904 - top_k_categorical_accuracy: 0.9709 - val_loss: 0.9540 - val_acc: 0.7760 - val_top_k_categorical_accuracy: 0.9316\n",
      "Epoch 5/7\n",
      "150/150 [==============================] - 119s - loss: 0.5164 - acc: 0.9061 - top_k_categorical_accuracy: 0.9793 - val_loss: 0.8660 - val_acc: 0.8047 - val_top_k_categorical_accuracy: 0.9395\n",
      "Epoch 6/7\n",
      "150/150 [==============================] - 120s - loss: 0.3367 - acc: 0.9489 - top_k_categorical_accuracy: 0.9890 - val_loss: 0.8847 - val_acc: 0.7982 - val_top_k_categorical_accuracy: 0.9316\n",
      "Epoch 7/7\n",
      "150/150 [==============================] - 119s - loss: 0.2532 - acc: 0.9651 - top_k_categorical_accuracy: 0.9933 - val_loss: 0.8779 - val_acc: 0.7943 - val_top_k_categorical_accuracy: 0.9329\n"
     ]
    },
    {
     "data": {
      "text/plain": [
       "<keras.callbacks.History at 0x7fd35c0570b8>"
      ]
     },
     "execution_count": 7,
     "metadata": {},
     "output_type": "execute_result"
    }
   ],
   "source": [
    "model.fit_generator(\n",
    "    train_generator, \n",
    "    steps_per_epoch=150, epochs=7, verbose=1,\n",
    "    validation_data=val_generator, validation_steps=24, \n",
    "    max_queue_size=10, workers=1, use_multiprocessing=False\n",
    ")"
   ]
  },
  {
   "cell_type": "code",
   "execution_count": 8,
   "metadata": {},
   "outputs": [
    {
     "name": "stdout",
     "output_type": "stream",
     "text": [
      "Found 5120 images belonging to 256 classes.\n"
     ]
    }
   ],
   "source": [
    "val_generator_no_shuffle = data_generator.flow_from_directory(\n",
    "    data_dir + 'val', \n",
    "    target_size=(224, 224),\n",
    "    batch_size=64, shuffle=False\n",
    ")"
   ]
  },
  {
   "cell_type": "code",
   "execution_count": 9,
   "metadata": {},
   "outputs": [
    {
     "data": {
      "text/plain": [
       "[0.84789355546236034, 0.80488281250000004, 0.93398437499999998]"
      ]
     },
     "execution_count": 9,
     "metadata": {},
     "output_type": "execute_result"
    }
   ],
   "source": [
    "model.evaluate_generator(val_generator_no_shuffle, 80)"
   ]
  },
  {
   "cell_type": "code",
   "execution_count": 10,
   "metadata": {
    "collapsed": true
   },
   "outputs": [],
   "source": [
    "model.save_weights('resnet_weights.hdf5')"
   ]
  }
 ],
 "metadata": {
  "kernelspec": {
   "display_name": "Python 3",
   "language": "python",
   "name": "python3"
  },
  "language_info": {
   "codemirror_mode": {
    "name": "ipython",
    "version": 3
   },
   "file_extension": ".py",
   "mimetype": "text/x-python",
   "name": "python",
   "nbconvert_exporter": "python",
   "pygments_lexer": "ipython3",
   "version": "3.6.1"
  }
 },
 "nbformat": 4,
 "nbformat_minor": 2
}
