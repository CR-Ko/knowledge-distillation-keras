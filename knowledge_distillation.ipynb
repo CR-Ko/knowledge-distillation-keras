{
 "cells": [
  {
   "cell_type": "code",
   "execution_count": 1,
   "metadata": {
    "collapsed": true
   },
   "outputs": [],
   "source": [
    "%load_ext autoreload\n",
    "%autoreload 2"
   ]
  },
  {
   "cell_type": "code",
   "execution_count": 2,
   "metadata": {},
   "outputs": [
    {
     "name": "stderr",
     "output_type": "stream",
     "text": [
      "Using TensorFlow backend.\n"
     ]
    }
   ],
   "source": [
    "import numpy as np\n",
    "import sys\n",
    "sys.path.append('utils/')\n",
    "\n",
    "import keras\n",
    "from keras import optimizers\n",
    "\n",
    "# use non standard flow_from_directory\n",
    "from image_preprocessing_ver2 import ImageDataGenerator\n",
    "# it outputs y_batch that contains onehot targets and logits\n",
    "# logits came from xception\n",
    "\n",
    "from keras.applications.mobilenet import preprocess_input\n",
    "from keras.models import Model\n",
    "from keras.layers import Lambda, concatenate, Activation\n",
    "from keras.losses import categorical_crossentropy as logloss\n",
    "from keras.metrics import categorical_accuracy, top_k_categorical_accuracy\n",
    "from keras import backend as K\n",
    "\n",
    "from mobilenet import get_mobilenet"
   ]
  },
  {
   "cell_type": "code",
   "execution_count": 3,
   "metadata": {
    "collapsed": true
   },
   "outputs": [],
   "source": [
    "data_dir = '/home/ubuntu/data/'"
   ]
  },
  {
   "cell_type": "code",
   "execution_count": 4,
   "metadata": {
    "collapsed": true
   },
   "outputs": [],
   "source": [
    "train_logits = np.load(data_dir + 'train_logits.npy')[()]\n",
    "val_logits = np.load(data_dir + 'val_logits.npy')[()]"
   ]
  },
  {
   "cell_type": "code",
   "execution_count": 5,
   "metadata": {},
   "outputs": [
    {
     "name": "stdout",
     "output_type": "stream",
     "text": [
      "Found 25600 images belonging to 256 classes.\n",
      "Found 5120 images belonging to 256 classes.\n"
     ]
    }
   ],
   "source": [
    "data_generator = ImageDataGenerator(\n",
    "    data_format='channels_last',\n",
    "    preprocessing_function=preprocess_input\n",
    ")\n",
    "\n",
    "# note: i'm also passing dicts of logits\n",
    "train_generator = data_generator.flow_from_directory(\n",
    "    data_dir + 'train', train_logits,\n",
    "    target_size=(299, 299),\n",
    "    batch_size=64\n",
    ")\n",
    "\n",
    "val_generator = data_generator.flow_from_directory(\n",
    "    data_dir + 'val', val_logits,\n",
    "    target_size=(299, 299),\n",
    "    batch_size=64\n",
    ")"
   ]
  },
  {
   "cell_type": "markdown",
   "metadata": {},
   "source": [
    "# Create model"
   ]
  },
  {
   "cell_type": "code",
   "execution_count": 6,
   "metadata": {
    "collapsed": true
   },
   "outputs": [],
   "source": [
    "temperature = 7\n",
    "lambda_const = 0.01"
   ]
  },
  {
   "cell_type": "code",
   "execution_count": 7,
   "metadata": {
    "collapsed": true
   },
   "outputs": [],
   "source": [
    "model = get_mobilenet()\n",
    "\n",
    "for layer in model.layers[:-7]:\n",
    "    layer.trainable = False\n",
    "\n",
    "# remove softmax\n",
    "model.layers.pop()\n",
    "\n",
    "# usual probabilities\n",
    "logits = model.layers[-1].output\n",
    "probabilities = Activation('softmax')(logits)\n",
    "\n",
    "# softed probabilities\n",
    "logits_T = Lambda(lambda x: x/temperature)(logits)\n",
    "probabilities_T = Activation('softmax')(logits_T)\n",
    "\n",
    "output = concatenate([probabilities, probabilities_T])\n",
    "model = Model(model.input, output)\n",
    "# now model outputs 512 dimensional vectors"
   ]
  },
  {
   "cell_type": "markdown",
   "metadata": {},
   "source": [
    "# Create custom loss"
   ]
  },
  {
   "cell_type": "code",
   "execution_count": 8,
   "metadata": {
    "collapsed": true
   },
   "outputs": [],
   "source": [
    "def knowledge_distillation_loss(y_true, y_pred):    \n",
    "    \n",
    "    # split in \n",
    "    #    onehot hard true targets\n",
    "    #    logits from xception\n",
    "    y_true, logits = y_true[:, :256], y_true[:, 256:]\n",
    "    \n",
    "    # convert logits to soft targets\n",
    "    y_soft = K.softmax(logits/temperature)\n",
    "    \n",
    "    # split in \n",
    "    #    usual output probabilities\n",
    "    #    probabilities made softer with temperature\n",
    "    y_pred, y_pred_soft = y_pred[:, :256], y_pred[:, 256:]    \n",
    "    \n",
    "    return lambda_const*logloss(y_true, y_pred) + logloss(y_soft, y_pred_soft)"
   ]
  },
  {
   "cell_type": "markdown",
   "metadata": {},
   "source": [
    "# For testing use usual output probabilities (without temperature)"
   ]
  },
  {
   "cell_type": "code",
   "execution_count": 9,
   "metadata": {
    "collapsed": true
   },
   "outputs": [],
   "source": [
    "def accuracy(y_true, y_pred):\n",
    "    y_true = y_true[:, :256]\n",
    "    y_pred = y_pred[:, :256]\n",
    "    return categorical_accuracy(y_true, y_pred)"
   ]
  },
  {
   "cell_type": "code",
   "execution_count": 10,
   "metadata": {
    "collapsed": true
   },
   "outputs": [],
   "source": [
    "def top_5_accuracy(y_true, y_pred):\n",
    "    y_true = y_true[:, :256]\n",
    "    y_pred = y_pred[:, :256]\n",
    "    return top_k_categorical_accuracy(y_true, y_pred)"
   ]
  },
  {
   "cell_type": "markdown",
   "metadata": {},
   "source": [
    "# Train"
   ]
  },
  {
   "cell_type": "code",
   "execution_count": 11,
   "metadata": {
    "collapsed": true
   },
   "outputs": [],
   "source": [
    "model.compile(\n",
    "    optimizer=optimizers.Adam(lr=1e-4), \n",
    "    loss=knowledge_distillation_loss, metrics=[accuracy, top_5_accuracy]\n",
    ")"
   ]
  },
  {
   "cell_type": "code",
   "execution_count": 12,
   "metadata": {
    "scrolled": false
   },
   "outputs": [
    {
     "name": "stdout",
     "output_type": "stream",
     "text": [
      "Epoch 1/15\n",
      "400/400 [==============================] - 86s - loss: 5.8417 - accuracy: 0.0788 - top_5_accuracy: 0.1972 - val_loss: 5.7050 - val_accuracy: 0.3141 - val_top_5_accuracy: 0.5898\n",
      "Epoch 2/15\n",
      "400/400 [==============================] - 85s - loss: 5.6509 - accuracy: 0.2938 - top_5_accuracy: 0.5495 - val_loss: 5.6104 - val_accuracy: 0.4870 - val_top_5_accuracy: 0.7529\n",
      "Epoch 3/15\n",
      "400/400 [==============================] - 85s - loss: 5.5930 - accuracy: 0.4237 - top_5_accuracy: 0.7006 - val_loss: 5.5798 - val_accuracy: 0.5452 - val_top_5_accuracy: 0.8001\n",
      "Epoch 4/15\n",
      "400/400 [==============================] - 85s - loss: 5.5750 - accuracy: 0.4810 - top_5_accuracy: 0.7534 - val_loss: 5.5703 - val_accuracy: 0.5492 - val_top_5_accuracy: 0.8053\n",
      "Epoch 5/15\n",
      "400/400 [==============================] - 85s - loss: 5.5685 - accuracy: 0.5051 - top_5_accuracy: 0.7691 - val_loss: 5.5658 - val_accuracy: 0.5680 - val_top_5_accuracy: 0.8275\n",
      "Epoch 6/15\n",
      "400/400 [==============================] - 85s - loss: 5.5652 - accuracy: 0.5207 - top_5_accuracy: 0.7837 - val_loss: 5.5635 - val_accuracy: 0.5605 - val_top_5_accuracy: 0.8135\n",
      "Epoch 7/15\n",
      "400/400 [==============================] - 85s - loss: 5.5633 - accuracy: 0.5277 - top_5_accuracy: 0.7895 - val_loss: 5.5628 - val_accuracy: 0.5563 - val_top_5_accuracy: 0.8096\n",
      "Epoch 8/15\n",
      "400/400 [==============================] - 85s - loss: 5.5617 - accuracy: 0.5390 - top_5_accuracy: 0.7988 - val_loss: 5.5610 - val_accuracy: 0.5635 - val_top_5_accuracy: 0.8203\n",
      "Epoch 9/15\n",
      "400/400 [==============================] - 85s - loss: 5.5605 - accuracy: 0.5463 - top_5_accuracy: 0.8047 - val_loss: 5.5602 - val_accuracy: 0.5807 - val_top_5_accuracy: 0.8311\n",
      "Epoch 10/15\n",
      "400/400 [==============================] - 85s - loss: 5.5596 - accuracy: 0.5577 - top_5_accuracy: 0.8095 - val_loss: 5.5589 - val_accuracy: 0.5824 - val_top_5_accuracy: 0.8333\n",
      "Epoch 11/15\n",
      "400/400 [==============================] - 85s - loss: 5.5586 - accuracy: 0.5620 - top_5_accuracy: 0.8164 - val_loss: 5.5587 - val_accuracy: 0.5758 - val_top_5_accuracy: 0.8271\n",
      "Epoch 12/15\n",
      "400/400 [==============================] - 85s - loss: 5.5578 - accuracy: 0.5709 - top_5_accuracy: 0.8263 - val_loss: 5.5579 - val_accuracy: 0.5983 - val_top_5_accuracy: 0.8304\n",
      "Epoch 13/15\n",
      "400/400 [==============================] - 85s - loss: 5.5571 - accuracy: 0.5771 - top_5_accuracy: 0.8267 - val_loss: 5.5572 - val_accuracy: 0.5905 - val_top_5_accuracy: 0.8457\n",
      "Epoch 14/15\n",
      "400/400 [==============================] - 85s - loss: 5.5565 - accuracy: 0.5828 - top_5_accuracy: 0.8343 - val_loss: 5.5569 - val_accuracy: 0.5931 - val_top_5_accuracy: 0.8379\n",
      "Epoch 15/15\n",
      "400/400 [==============================] - 85s - loss: 5.5560 - accuracy: 0.5917 - top_5_accuracy: 0.8348 - val_loss: 5.5567 - val_accuracy: 0.5980 - val_top_5_accuracy: 0.8457\n"
     ]
    },
    {
     "data": {
      "text/plain": [
       "<keras.callbacks.History at 0x7fe4d56ee908>"
      ]
     },
     "execution_count": 12,
     "metadata": {},
     "output_type": "execute_result"
    }
   ],
   "source": [
    "model.fit_generator(\n",
    "    train_generator, \n",
    "    steps_per_epoch=400, epochs=15, verbose=1,\n",
    "    validation_data=val_generator, validation_steps=48 \n",
    ")"
   ]
  },
  {
   "cell_type": "markdown",
   "metadata": {},
   "source": [
    "# Results"
   ]
  },
  {
   "cell_type": "code",
   "execution_count": 13,
   "metadata": {},
   "outputs": [
    {
     "name": "stdout",
     "output_type": "stream",
     "text": [
      "Found 5120 images belonging to 256 classes.\n"
     ]
    }
   ],
   "source": [
    "val_generator_no_shuffle = data_generator.flow_from_directory(\n",
    "    data_dir + 'val', val_logits,\n",
    "    target_size=(299, 299),\n",
    "    batch_size=64, shuffle=False\n",
    ")"
   ]
  },
  {
   "cell_type": "code",
   "execution_count": 14,
   "metadata": {},
   "outputs": [
    {
     "data": {
      "text/plain": [
       "[5.5564268946647646, 0.60292968749999998, 0.84687500000000004]"
      ]
     },
     "execution_count": 14,
     "metadata": {},
     "output_type": "execute_result"
    }
   ],
   "source": [
    "model.evaluate_generator(val_generator_no_shuffle, 80)"
   ]
  }
 ],
 "metadata": {
  "kernelspec": {
   "display_name": "Python 3",
   "language": "python",
   "name": "python3"
  },
  "language_info": {
   "codemirror_mode": {
    "name": "ipython",
    "version": 3
   },
   "file_extension": ".py",
   "mimetype": "text/x-python",
   "name": "python",
   "nbconvert_exporter": "python",
   "pygments_lexer": "ipython3",
   "version": "3.5.2"
  }
 },
 "nbformat": 4,
 "nbformat_minor": 2
}
