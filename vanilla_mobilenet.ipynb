{
 "cells": [
  {
   "cell_type": "code",
   "execution_count": 1,
   "metadata": {
    "collapsed": true
   },
   "outputs": [],
   "source": [
    "%load_ext autoreload\n",
    "%autoreload 2"
   ]
  },
  {
   "cell_type": "code",
   "execution_count": 2,
   "metadata": {},
   "outputs": [
    {
     "name": "stderr",
     "output_type": "stream",
     "text": [
      "Using TensorFlow backend.\n"
     ]
    }
   ],
   "source": [
    "import keras\n",
    "from keras import optimizers\n",
    "from keras.preprocessing.image import ImageDataGenerator\n",
    "from keras.applications.mobilenet import preprocess_input\n",
    "\n",
    "from mobilenet import get_mobilenet"
   ]
  },
  {
   "cell_type": "code",
   "execution_count": 3,
   "metadata": {
    "collapsed": true
   },
   "outputs": [],
   "source": [
    "data_dir = '/home/ubuntu/data/'"
   ]
  },
  {
   "cell_type": "code",
   "execution_count": 4,
   "metadata": {},
   "outputs": [
    {
     "name": "stdout",
     "output_type": "stream",
     "text": [
      "Found 25600 images belonging to 256 classes.\n",
      "Found 5120 images belonging to 256 classes.\n"
     ]
    }
   ],
   "source": [
    "data_generator = ImageDataGenerator(\n",
    "    data_format='channels_last',\n",
    "    preprocessing_function=preprocess_input\n",
    ")\n",
    "\n",
    "train_generator = data_generator.flow_from_directory(\n",
    "    data_dir + 'train', \n",
    "    target_size=(299, 299),\n",
    "    batch_size=64\n",
    ")\n",
    "\n",
    "val_generator = data_generator.flow_from_directory(\n",
    "    data_dir + 'val', \n",
    "    target_size=(299, 299),\n",
    "    batch_size=64\n",
    ")"
   ]
  },
  {
   "cell_type": "markdown",
   "metadata": {},
   "source": [
    "# Model"
   ]
  },
  {
   "cell_type": "code",
   "execution_count": 5,
   "metadata": {},
   "outputs": [],
   "source": [
    "model = get_mobilenet()\n",
    "\n",
    "for layer in model.layers[:-7]:\n",
    "    layer.trainable = False"
   ]
  },
  {
   "cell_type": "markdown",
   "metadata": {},
   "source": [
    "# Training"
   ]
  },
  {
   "cell_type": "code",
   "execution_count": 6,
   "metadata": {
    "collapsed": true
   },
   "outputs": [],
   "source": [
    "model.compile(\n",
    "    optimizer=optimizers.Adam(lr=1e-4), \n",
    "    loss='categorical_crossentropy', metrics=['accuracy', 'top_k_categorical_accuracy']\n",
    ")"
   ]
  },
  {
   "cell_type": "code",
   "execution_count": 7,
   "metadata": {
    "scrolled": false
   },
   "outputs": [
    {
     "name": "stdout",
     "output_type": "stream",
     "text": [
      "Epoch 1/10\n",
      "400/400 [==============================] - 84s - loss: 5.3767 - acc: 0.0904 - top_k_categorical_accuracy: 0.2075 - val_loss: 3.7792 - val_acc: 0.3822 - val_top_k_categorical_accuracy: 0.6462\n",
      "Epoch 2/10\n",
      "400/400 [==============================] - 84s - loss: 3.5526 - acc: 0.3403 - top_k_categorical_accuracy: 0.5811 - val_loss: 2.7775 - val_acc: 0.5752 - val_top_k_categorical_accuracy: 0.8079\n",
      "Epoch 3/10\n",
      "400/400 [==============================] - 84s - loss: 2.7493 - acc: 0.4946 - top_k_categorical_accuracy: 0.7382 - val_loss: 2.2714 - val_acc: 0.6530 - val_top_k_categorical_accuracy: 0.8486\n",
      "Epoch 4/10\n",
      "400/400 [==============================] - 84s - loss: 2.3067 - acc: 0.5832 - top_k_categorical_accuracy: 0.8151 - val_loss: 2.0539 - val_acc: 0.6709 - val_top_k_categorical_accuracy: 0.8678\n",
      "Epoch 5/10\n",
      "400/400 [==============================] - 84s - loss: 2.0181 - acc: 0.6427 - top_k_categorical_accuracy: 0.8541 - val_loss: 1.8393 - val_acc: 0.6969 - val_top_k_categorical_accuracy: 0.8939\n",
      "Epoch 6/10\n",
      "400/400 [==============================] - 84s - loss: 1.8178 - acc: 0.6909 - top_k_categorical_accuracy: 0.8842 - val_loss: 1.8338 - val_acc: 0.7041 - val_top_k_categorical_accuracy: 0.8783\n",
      "Epoch 7/10\n",
      "400/400 [==============================] - 84s - loss: 1.6536 - acc: 0.7271 - top_k_categorical_accuracy: 0.9048 - val_loss: 1.6675 - val_acc: 0.7285 - val_top_k_categorical_accuracy: 0.9062\n",
      "Epoch 8/10\n",
      "400/400 [==============================] - 84s - loss: 1.5356 - acc: 0.7544 - top_k_categorical_accuracy: 0.9198 - val_loss: 1.6681 - val_acc: 0.7253 - val_top_k_categorical_accuracy: 0.8965\n",
      "Epoch 9/10\n",
      "400/400 [==============================] - 84s - loss: 1.4287 - acc: 0.7821 - top_k_categorical_accuracy: 0.9338 - val_loss: 1.6275 - val_acc: 0.7295 - val_top_k_categorical_accuracy: 0.9030\n",
      "Epoch 10/10\n",
      "400/400 [==============================] - 84s - loss: 1.3411 - acc: 0.8009 - top_k_categorical_accuracy: 0.9445 - val_loss: 1.5498 - val_acc: 0.7536 - val_top_k_categorical_accuracy: 0.9102\n"
     ]
    },
    {
     "data": {
      "text/plain": [
       "<keras.callbacks.History at 0x7fdf4175dc50>"
      ]
     },
     "execution_count": 7,
     "metadata": {},
     "output_type": "execute_result"
    }
   ],
   "source": [
    "model.fit_generator(\n",
    "    train_generator, \n",
    "    steps_per_epoch=400, epochs=10, verbose=1,\n",
    "    validation_data=val_generator, validation_steps=48\n",
    ")"
   ]
  },
  {
   "cell_type": "markdown",
   "metadata": {},
   "source": [
    "# Result"
   ]
  },
  {
   "cell_type": "code",
   "execution_count": 8,
   "metadata": {},
   "outputs": [
    {
     "name": "stdout",
     "output_type": "stream",
     "text": [
      "Found 5120 images belonging to 256 classes.\n"
     ]
    }
   ],
   "source": [
    "val_generator_no_shuffle = data_generator.flow_from_directory(\n",
    "    data_dir + 'val', \n",
    "    target_size=(299, 299),\n",
    "    batch_size=64, shuffle=False\n",
    ")"
   ]
  },
  {
   "cell_type": "code",
   "execution_count": 9,
   "metadata": {},
   "outputs": [
    {
     "data": {
      "text/plain": [
       "[1.5867714270949365, 0.7412109375, 0.90605468749999996]"
      ]
     },
     "execution_count": 9,
     "metadata": {},
     "output_type": "execute_result"
    }
   ],
   "source": [
    "model.evaluate_generator(val_generator_no_shuffle, 80)"
   ]
  }
 ],
 "metadata": {
  "kernelspec": {
   "display_name": "Python 3",
   "language": "python",
   "name": "python3"
  },
  "language_info": {
   "codemirror_mode": {
    "name": "ipython",
    "version": 3
   },
   "file_extension": ".py",
   "mimetype": "text/x-python",
   "name": "python",
   "nbconvert_exporter": "python",
   "pygments_lexer": "ipython3",
   "version": "3.5.2"
  }
 },
 "nbformat": 4,
 "nbformat_minor": 2
}
